{
 "cells": [
  {
   "cell_type": "code",
   "execution_count": null,
   "id": "ba645c09",
   "metadata": {},
   "outputs": [
    {
     "name": "stdout",
     "output_type": "stream",
     "text": [
      "Login | Signup: Signup\n",
      "please enter email: komaljh\n",
      "please enter password: komal123\n",
      "please retype password: komal123\n",
      "Email is not correct! \n",
      "please enter email: komal@gmail.com\n",
      "please enter password: kom\n",
      "please retype password: kom\n",
      "Password is not correct! \n"
     ]
    }
   ],
   "source": [
    "import csv\n",
    "import re\n",
    "def register():\n",
    "    with open(\"users.csv\",mode=\"a\",newline=\"\") as f:\n",
    "        writer=csv.writer(f,delimiter=\",\")\n",
    "        email=input(\"please enter email: \")\n",
    "        password=input(\"please enter password: \")\n",
    "        password2=input(\"please retype password: \")\n",
    "        \n",
    "        \n",
    "        pat = \"^[a-zA-Z0-9-_]+@[a-zA-Z0-9]+\\.[a-z]{1,3}$\"   #email\n",
    "        reg = \"[A-Za-z0-9@#$%^&+=]{8,}\" #password\n",
    "        \n",
    "        if password==password2 and 5<len(password)<16 :\n",
    "            if re.match(pat,email) and  re.search(re.compile(reg), password):\n",
    "                    writer.writerow([email,password])\n",
    "                    print(\"Registration is successful!\")\n",
    "                    login()\n",
    "            else:   \n",
    "                    print(\"Email is not correct! \")\n",
    "                    register()\n",
    "        else:\n",
    "            print(\"Password is not correct! \")\n",
    "            register()\n",
    "            \n",
    "def login():\n",
    "    email=input(\"please your enter email: \")\n",
    "    password=input(\"please your enter password: \")\n",
    "    with open(\"users.csv\",mode=\"r\") as f:\n",
    "        reader =csv.reader(f, delimiter=\",\")\n",
    "        for row in reader:\n",
    "            if row ==[email,password]:\n",
    "                print(\"you are logged in! \")\n",
    "                return True\n",
    "        print(\"Incorrect email or password!\")\n",
    "        fun_for()\n",
    "        \n",
    "\n",
    "def forgot_password():\n",
    "        email=input(\"Enter the registered email: \")\n",
    "        emails = {email : password for email, password in map( lambda x:x.split(','), open('users.csv', 'r').readlines() )}\n",
    "        print(emails[email])\n",
    "        return True\n",
    "    \n",
    "    \n",
    "def fun_for(option=None):\n",
    "    option =input(\"Register | Forgot_password: \")\n",
    "    if option ==\"Register\":\n",
    "        register()\n",
    "    elif option ==\"Forgot_password\":\n",
    "        forgot_password()\n",
    "    else:\n",
    "        print(\"Please enter the option\")\n",
    "        fun_for()\n",
    "        \n",
    "\n",
    "def home(option=None):\n",
    "    option =input(\"Login | Signup: \")\n",
    "    if option ==\"Login\":\n",
    "        login()\n",
    "    elif option ==\"Signup\":\n",
    "        register()\n",
    "    else:\n",
    "        print(\"Please enter the option\")\n",
    "        home()\n",
    "        \n",
    "home()       \n"
   ]
  },
  {
   "cell_type": "code",
   "execution_count": null,
   "id": "54896c33",
   "metadata": {},
   "outputs": [],
   "source": []
  },
  {
   "cell_type": "code",
   "execution_count": null,
   "id": "52088bdd",
   "metadata": {},
   "outputs": [],
   "source": []
  },
  {
   "cell_type": "code",
   "execution_count": null,
   "id": "729294af",
   "metadata": {},
   "outputs": [],
   "source": []
  }
 ],
 "metadata": {
  "kernelspec": {
   "display_name": "Python 3 (ipykernel)",
   "language": "python",
   "name": "python3"
  },
  "language_info": {
   "codemirror_mode": {
    "name": "ipython",
    "version": 3
   },
   "file_extension": ".py",
   "mimetype": "text/x-python",
   "name": "python",
   "nbconvert_exporter": "python",
   "pygments_lexer": "ipython3",
   "version": "3.9.7"
  }
 },
 "nbformat": 4,
 "nbformat_minor": 5
}
